{
 "cells": [
  {
   "cell_type": "code",
   "execution_count": 9,
   "metadata": {},
   "outputs": [],
   "source": [
    "import sys\n",
    "sys.path.append('..')\n",
    "sys.path.append('../..')\n",
    "import pandas as pd\n",
    "import numpy as np\n",
    "import datetime\n",
    "import os\n",
    "import warnings\n",
    "warnings.filterwarnings(\"ignore\")\n",
    "from tqdm import tqdm\n",
    "import dcube as dc\n"
   ]
  },
  {
   "cell_type": "code",
   "execution_count": 3,
   "metadata": {},
   "outputs": [],
   "source": [
    "# df_close = get_single_factor_values('CCB__close',date_s,date_e,None,'ccb')"
   ]
  },
  {
   "cell_type": "code",
   "execution_count": 4,
   "metadata": {},
   "outputs": [],
   "source": [
    "# df_close = get_single_factor_values('CCB__close',date_s,date_e,None,'ccb')"
   ]
  },
  {
   "cell_type": "code",
   "execution_count": 26,
   "metadata": {},
   "outputs": [],
   "source": [
    "# -*- coding: utf-8 -*-\n",
    "import math\n",
    "from scipy.stats import norm\n",
    "import numpy as np\n",
    "import pandas as pd \n",
    "from scipy import stats\n",
    "from scipy.optimize import fsolve\n",
    "def blsprice(S, K, T, r, sigma):\n",
    "    '''\n",
    "    input: price标的资产市场价格，strike执行价格，rate无风险利率，time距离到期时间，volatility标的资产价格波动率\n",
    "    output: 看涨期权价格，看跌期权价格\n",
    "    '''\n",
    "    price, strike, rate, time, volatility = float(S), float(K), float(r), float(T), float(sigma)\n",
    "    d1 = (np.log(price / strike) + (rate + 0.5 * volatility ** 2) * time) / (volatility * np.sqrt(time))\n",
    "    d2 = d1 - volatility * np.sqrt(time)\n",
    "    call = price * stats.norm.cdf(d1, 0.0, 1.0) - strike * np.exp(-rate * time) * stats.norm.cdf(d2, 0.0, 1.0)\n",
    "    put = strike * np.exp(-rate * time) * stats.norm.cdf(-d2, 0.0, 1.0) - price * stats.norm.cdf(-d1, 0.0, 1.0) \n",
    "    return call\n",
    "\n",
    "def ImpliedVolatitityCallObj(call, S, K, T, r, sigma_est=0.1):\n",
    "    '''\n",
    "    input:call看涨期权现在实际价格,price标的资产现在价格，strike标的资产协议价格，rate无风险利率，time标的资产剩余年数，volatility_est波动率优化初始值\n",
    "    output:该看涨期权的隐含波动率iv\n",
    "    '''\n",
    "    def difference(sigma_est, S, K, T, r):\n",
    "        # 根据参数,使用blsprice计算期权价格\n",
    "        est_call = blsprice(S, K, T, r, sigma_est)\n",
    "        return est_call - call\n",
    "    # 存在一个波动率使得下列等式成立\n",
    "    iv = fsolve(difference, sigma_est, args=(S, K, T, r))[0]\n",
    "    return iv #iv隐含波动率\n",
    "\n",
    "# 定义Black-Scholes模型计算期权价格的函数\n",
    "def calculate_option_price_BS(S, K, T, r, sigma, option_type):\n",
    "    \n",
    "    \n",
    "    d1 = (math.log(S / K) + (r + 0.5 * sigma**2) * T) / (sigma * math.sqrt(T))\n",
    "    d2 = d1 - sigma * math.sqrt(T)\n",
    "    \n",
    "    if option_type == 'call':\n",
    "        option_price = S * norm.cdf(d1) - K * math.exp(-r * T) * norm.cdf(d2)\n",
    "    elif option_type == 'put':\n",
    "        option_price = K * math.exp(-r * T) * norm.cdf(-d2) - S * norm.cdf(-d1)\n",
    "    \n",
    "    return option_price\n",
    "\n",
    "\n",
    "def calculate_option_delta_BS(S, K, T, r, sigma, option_type):\n",
    "    d1 = (math.log(S / K) + (r + 0.5 * sigma**2) * T) / (sigma * math.sqrt(T))\n",
    "    \n",
    "    if option_type == 'call':\n",
    "        delta = norm.cdf(d1)\n",
    "    elif option_type == 'put':\n",
    "        delta = norm.cdf(d1) - 1\n",
    "    \n",
    "    return delta\n",
    "\n",
    "def calculate_option_gamma_BS(S, K, T, r, sigma):\n",
    "    d1 = (math.log(S / K) + (r + 0.5 * sigma**2) * T) / (sigma * math.sqrt(T))\n",
    "    gamma = norm.pdf(d1) / (S * sigma * math.sqrt(T))\n",
    "    return gamma\n",
    "\n",
    "def calculate_option_vega_BS(S, K, T, r, sigma):\n",
    "    d1 = (math.log(S / K) + (r + 0.5 * sigma**2) * T) / (sigma * math.sqrt(T))\n",
    "    vega = S * norm.pdf(d1) * math.sqrt(T)\n",
    "    return vega\n",
    "\n",
    "def calculate_option_theta_BS(S, K, T, r, sigma, option_type):\n",
    "    d1 = (math.log(S / K) + (r + 0.5 * sigma**2) * T) / (sigma * math.sqrt(T))\n",
    "    d2 = d1 - sigma * math.sqrt(T)\n",
    "    \n",
    "    if option_type == 'call':\n",
    "        theta = -S * norm.pdf(d1) * sigma / (2 * math.sqrt(T)) - r * K * math.exp(-r*T) * norm.cdf(d2)\n",
    "    elif option_type == 'put':\n",
    "        theta = -S * norm.pdf(d1) * sigma / (2 * math.sqrt(T)) + r * K * math.exp(-r*T) * norm.cdf(-d2)\n",
    "    \n",
    "    return theta\n",
    "\n",
    "def calculate_option_rho_BS(S, K, T, r, sigma, option_type):\n",
    "    d1 = (math.log(S / K) + (r + 0.5 * sigma**2) * T) / (sigma * math.sqrt(T))\n",
    "    d2 = d1 - sigma * math.sqrt(T)\n",
    "    \n",
    "    if option_type == 'call':\n",
    "        rho = K * T * math.exp(-r * T) * norm.cdf(d2)\n",
    "    elif option_type == 'put':\n",
    "        rho = -K * T * math.exp(-r * T) * norm.cdf(-d2)\n",
    "    \n",
    "    return rho\n",
    "\n",
    "# 其他函数\n",
    "def get_all_trade_days(start_date='20000101'):\n",
    "    df = pro.trade_cal(exchange='', start_date=pd.to_datetime(start_date).strftime('%Y%m%d'),is_open='1')\n",
    "    trade_days = df['cal_date'].tolist()\n",
    "    all_days = pd.to_datetime(trade_days)\n",
    "    all_days = [date.date() for date in all_days]\n",
    "    return all_days\n",
    "\n",
    "def read_single_factor_file_nocache(factor_name: str):\n",
    "    path = r'C:\\Users\\nibh\\Desktop\\FZ\\CCB\\{}.csv'.format(factor_name)\n",
    "    df = pd.read_csv(path, index_col=0)\n",
    "    df.index = [datetime.datetime.strptime(i, '%Y-%m-%d').date() for i in df.index]\n",
    "    return df\n",
    "\n",
    "#在指定日期和CCB池中读取单因子值\n",
    "def get_single_factor_values(factor_name: str,start_date: datetime.date ,end_date: datetime.date,pool: list,cache=False):\n",
    "    df = read_single_factor_file_nocache(factor_name)\n",
    "    return df.loc[start_date:end_date, pool]\n",
    "\n",
    "# #参数定义\n",
    "file_path = r'C:\\Users\\nibh\\Desktop\\FZ\\CCB\\计算结果.xlsx'\n",
    "option_type = 'call'\n",
    "r = 0.02    #无风险利率\n",
    "\n",
    "all_days = get_all_trade_days()\n",
    "date_s = '20160101'\n",
    "date_e = '20230626'\n",
    "date_s = pd.to_datetime(date_s).date()\n",
    "date_e = pd.to_datetime(date_e).date()\n",
    "date_list = [date for date in all_days if date_s<=date<=date_e]\n",
    "ccb_code_list = pd.read_csv('C:\\\\Users\\\\nibh\\\\Desktop\\\\FZ\\\\CCB\\\\CCB_stock_code.csv')['ccb_code'].tolist()\n",
    "factor_list = ['CCB__close','CCB__strbpremium','CCB__conv_price','CCB__conv_ratio','CCB__conv_value','CCB__ptm',\\\n",
    "               'CCB__S__EODP__S__STD240D','CCB__S__EODP__S_DQ_CLOSE']\n",
    "option_cal_pnl = {}\n",
    "# option_cal_df = pd.DataFrame()\n",
    "for f in factor_list:\n",
    "    df = get_single_factor_values(f,date_s,date_e,ccb_code_list)\n",
    "    option_cal_pnl[f] = df\n",
    "option_cal_pnl = pd.Panel(option_cal_pnl)\n"
   ]
  },
  {
   "cell_type": "code",
   "execution_count": 25,
   "metadata": {
    "scrolled": true
   },
   "outputs": [
    {
     "data": {
      "text/plain": [
       "[Index(['CCB__close', 'CCB__strbpremium', 'CCB__conv_price', 'CCB__conv_ratio',\n",
       "        'CCB__conv_value', 'CCB__ptm', 'CCB__S__EODP__S__STD240D',\n",
       "        'CCB__S__EODP__S_DQ_CLOSE'],\n",
       "       dtype='object'),\n",
       " Index([2016-01-04, 2016-01-05, 2016-01-06, 2016-01-07, 2016-01-08, 2016-01-11,\n",
       "        2016-01-12, 2016-01-13, 2016-01-14, 2016-01-15,\n",
       "        ...\n",
       "        2023-06-09, 2023-06-12, 2023-06-13, 2023-06-14, 2023-06-15, 2023-06-16,\n",
       "        2023-06-19, 2023-06-20, 2023-06-21, 2023-06-26],\n",
       "       dtype='object', length=1817),\n",
       " Index(['128015.SZ', '117128.SZ', '117117.SZ', 'S72466.IOC', '117137.SZ',\n",
       "        '117164.SZ', '128108.SZ', '123001.SZ', '117127.SZ', '117118.SZ',\n",
       "        ...\n",
       "        '123159.SZ', '113525.SH', '113638.SH', '113656.SH', '113580.SH',\n",
       "        '113625.SH', '113539.SH', '113600.SH', '113043.SH', '113644.SH'],\n",
       "       dtype='object', length=1384)]"
      ]
     },
     "execution_count": 25,
     "metadata": {},
     "output_type": "execute_result"
    }
   ],
   "source": [
    "option_cal_pnl.axes"
   ]
  },
  {
   "cell_type": "code",
   "execution_count": 28,
   "metadata": {
    "scrolled": false
   },
   "outputs": [
    {
     "name": "stderr",
     "output_type": "stream",
     "text": [
      "100%|████████████████████████████████████████████████████████████████████████████| 1817/1817 [2:54:02<00:00,  5.75s/it]\n"
     ]
    }
   ],
   "source": [
    "BS_pnl = {}\n",
    "for date in tqdm(date_list):\n",
    "    option_cal_df = option_cal_pnl.loc[:,date]\n",
    "    option_cal_df['CCB__strbpremium_div_conv_ratio'] = option_cal_df['CCB__strbpremium'].div(option_cal_df['CCB__conv_ratio'].replace(0,np.nan))\n",
    "    BS_df = pd.DataFrame()\n",
    "#     BS_df['转+A:R债代码'] = option_cal_df['转+A:R债代码']\n",
    "    BS_df['转股比例'] = option_cal_df['CCB__conv_ratio']\n",
    "    BS_df['转股价值'] = option_cal_df['CCB__conv_value']\n",
    "    BS_df['正股近12个月的年化波动率'] = option_cal_df['CCB__S__EODP__S__STD240D']*250**0.5\n",
    "    # BS_df['BS期权价格_zl'] = option_cal_df.apply(lambda row: blsprice(row['正股价格'],row['转债行权价格'],r,row['自愿转股期限'],row['正股近24个月的波动率']), axis=1)\n",
    "    # 每份正股对应的BS期权价格和希腊字母\n",
    "    BS_df['BS期权价格'] = option_cal_df.apply(lambda row: calculate_option_price_BS(row['CCB__S__EODP__S_DQ_CLOSE'],row['CCB__conv_price'],row['CCB__ptm'],r,row['CCB__S__EODP__S__STD240D'],option_type), axis=1)\n",
    "    BS_df['BS_delta'] = option_cal_df.apply(lambda row: calculate_option_delta_BS(row['CCB__S__EODP__S_DQ_CLOSE'],row['CCB__conv_price'],row['CCB__ptm'],r,row['CCB__S__EODP__S__STD240D'],option_type), axis=1)\n",
    "    BS_df['BS_gamma'] = option_cal_df.apply(lambda row: calculate_option_gamma_BS(row['CCB__S__EODP__S_DQ_CLOSE'],row['CCB__conv_price'],row['CCB__ptm'],r,row['CCB__S__EODP__S__STD240D']), axis=1)\n",
    "    BS_df['BS_vega'] = option_cal_df.apply(lambda row: calculate_option_vega_BS(row['CCB__S__EODP__S_DQ_CLOSE'],row['CCB__conv_price'],row['CCB__ptm'],r,row['CCB__S__EODP__S__STD240D']), axis=1)\n",
    "    BS_df['BS_theta'] = option_cal_df.apply(lambda row: calculate_option_theta_BS(row['CCB__S__EODP__S_DQ_CLOSE'],row['CCB__conv_price'],row['CCB__ptm'],r,row['CCB__S__EODP__S__STD240D'],option_type), axis=1)\n",
    "    BS_df['BS_rho'] = option_cal_df.apply(lambda row: calculate_option_rho_BS(row['CCB__S__EODP__S_DQ_CLOSE'],row['CCB__conv_price'],row['CCB__ptm'],r,row['CCB__S__EODP__S__STD240D'],option_type), axis=1)\n",
    "    BS_df['BS_iv'] = option_cal_df.apply(lambda row: ImpliedVolatitityCallObj(row['CCB__strbpremium_div_conv_ratio'],row['CCB__S__EODP__S_DQ_CLOSE'],row['CCB__conv_price'],row['CCB__ptm'],r), axis=1)\n",
    "    BS_df['BS_iv_bias'] = BS_df['BS_iv'] - BS_df['正股近12个月的年化波动率']\n",
    "    BS_pnl[date] = BS_df\n",
    "BS_pnl = pd.Panel(BS_pnl)"
   ]
  },
  {
   "cell_type": "code",
   "execution_count": 6,
   "metadata": {},
   "outputs": [],
   "source": [
    "# (get_single_factor_values('CCB__S__EODP__S_DQ_PCTCHANGE','20210101','20230731',None,'ccb')/100).rolling(500,min_periods=20).std().iloc[-1]*250**0.5"
   ]
  },
  {
   "cell_type": "code",
   "execution_count": 7,
   "metadata": {},
   "outputs": [],
   "source": [
    "# BS_df['正股近12个月的波动率']*252**0.5"
   ]
  },
  {
   "cell_type": "code",
   "execution_count": 29,
   "metadata": {},
   "outputs": [],
   "source": [
    "path = r'C:\\Users\\nibh\\Desktop\\FZ\\CCB'\n",
    "file_name = '{}\\\\CCB__BS_iv.csv'.format(path)\n",
    "BS_pnl.loc[:,:,'BS_iv'].T.to_csv(file_name)\n",
    "\n",
    "file_name = '{}\\\\CCB__BS_iv_bias.csv'.format(path)\n",
    "BS_pnl.loc[:,:,'BS_iv_bias'].T.to_csv(file_name)\n"
   ]
  },
  {
   "cell_type": "code",
   "execution_count": 1,
   "metadata": {},
   "outputs": [],
   "source": [
    "import pickle\n",
    "with open(\"BS_pnl.pkl\", \"wb\") as f:\n",
    "    pickle.dump(BS_pnl, f)\n",
    "    \n",
    "# 加载本地的 Panel 对象\n",
    "with open(\"BS_pnl.pkl\", \"rb\") as f:\n",
    "    BS_pnl = pickle.load(f)"
   ]
  },
  {
   "cell_type": "code",
   "execution_count": 12,
   "metadata": {},
   "outputs": [],
   "source": [
    "path = r'C:\\Users\\nibh\\Desktop\\FZ\\CCB'\n",
    "\n",
    "file_name = '{}\\\\CCB__BS_price.csv'.format(path)\n",
    "BS_pnl.loc[:,:,'BS期权价格'].T.to_csv(file_name)\n"
   ]
  },
  {
   "cell_type": "code",
   "execution_count": 11,
   "metadata": {},
   "outputs": [
    {
     "data": {
      "text/plain": [
       "[Index([2016-01-04, 2016-01-05, 2016-01-06, 2016-01-07, 2016-01-08, 2016-01-11,\n",
       "        2016-01-12, 2016-01-13, 2016-01-14, 2016-01-15,\n",
       "        ...\n",
       "        2023-06-09, 2023-06-12, 2023-06-13, 2023-06-14, 2023-06-15, 2023-06-16,\n",
       "        2023-06-19, 2023-06-20, 2023-06-21, 2023-06-26],\n",
       "       dtype='object', length=1817),\n",
       " Index(['128015.SZ', '117128.SZ', '117117.SZ', 'S72466.IOC', '117137.SZ',\n",
       "        '117164.SZ', '128108.SZ', '123001.SZ', '117127.SZ', '117118.SZ',\n",
       "        ...\n",
       "        '123159.SZ', '113525.SH', '113638.SH', '113656.SH', '113580.SH',\n",
       "        '113625.SH', '113539.SH', '113600.SH', '113043.SH', '113644.SH'],\n",
       "       dtype='object', length=1384),\n",
       " Index(['转股比例', '转股价值', '正股近12个月的年化波动率', 'BS期权价格', 'BS_delta', 'BS_gamma',\n",
       "        'BS_vega', 'BS_theta', 'BS_rho', 'BS_iv', 'BS_iv_bias'],\n",
       "       dtype='object')]"
      ]
     },
     "execution_count": 11,
     "metadata": {},
     "output_type": "execute_result"
    }
   ],
   "source": [
    "BS_pnl.axes"
   ]
  },
  {
   "cell_type": "code",
   "execution_count": null,
   "metadata": {},
   "outputs": [],
   "source": []
  }
 ],
 "metadata": {
  "kernelspec": {
   "display_name": "Python 3",
   "language": "python",
   "name": "python3"
  },
  "language_info": {
   "codemirror_mode": {
    "name": "ipython",
    "version": 3
   },
   "file_extension": ".py",
   "mimetype": "text/x-python",
   "name": "python",
   "nbconvert_exporter": "python",
   "pygments_lexer": "ipython3",
   "version": "3.6.13"
  }
 },
 "nbformat": 4,
 "nbformat_minor": 2
}
